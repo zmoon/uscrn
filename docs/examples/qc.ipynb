{
 "cells": [
  {
   "cell_type": "markdown",
   "id": "aa45fe06",
   "metadata": {},
   "source": [
    "# QC flags\n",
    "\n",
    "By default, the QC flags are applied. This means that for numeric data columns that have a QC flag column, values where the QC flag is not \"0\" are set to NaN.\n",
    "\n",
    "See {doc}`select-sites` for more information about selecting sites and\n",
    "{doc}`daily` / {func}`uscrn.get_data` and {doc}`nrt` / {func}`uscrn.get_nrt_data` for more information about loading data."
   ]
  },
  {
   "cell_type": "code",
   "execution_count": null,
   "id": "c46a3bbf",
   "metadata": {
    "tags": [
     "hide-output"
    ]
   },
   "outputs": [],
   "source": [
    "import pandas as pd\n",
    "\n",
    "import uscrn"
   ]
  },
  {
   "cell_type": "code",
   "execution_count": null,
   "id": "e2936b91",
   "metadata": {
    "tags": [
     "hide-output"
    ]
   },
   "outputs": [],
   "source": [
    "station_id = \"1045\"  # Boulder, CO\n",
    "\n",
    "df = uscrn.get_data(2019, \"hourly\", station_id=station_id, n_jobs=1)\n",
    "df_no_qc = uscrn.get_data(2019, \"hourly\", station_id=station_id, apply_qc=False)"
   ]
  },
  {
   "cell_type": "code",
   "execution_count": null,
   "id": "c47859cc",
   "metadata": {},
   "outputs": [],
   "source": [
    "qc_vns = [k for k, v in df.attrs[\"attrs\"].items() if v[\"qc_flag_name\"]]\n",
    "\n",
    "counts = []\n",
    "for vn in qc_vns:\n",
    "    fn = df.attrs[\"attrs\"][vn][\"qc_flag_name\"]\n",
    "    counts.append(df[fn].value_counts().convert_dtypes().rename(vn))\n",
    "\n",
    "counts = pd.DataFrame(counts)\n",
    "counts"
   ]
  },
  {
   "cell_type": "code",
   "execution_count": null,
   "id": "7008a9de",
   "metadata": {},
   "outputs": [],
   "source": [
    "vn = counts.sort_values(by=\"0\").iloc[0].name\n",
    "\n",
    "pd.concat(\n",
    "    [\n",
    "        df[vn].isnull().value_counts().rename(\"qc\"),\n",
    "        df_no_qc[vn].isnull().value_counts().rename(\"no qc\"),\n",
    "    ],\n",
    "    axis=1,\n",
    ")"
   ]
  },
  {
   "cell_type": "code",
   "execution_count": null,
   "id": "c6f94421",
   "metadata": {},
   "outputs": [],
   "source": [
    "df.sur_temp_type.value_counts()"
   ]
  },
  {
   "cell_type": "markdown",
   "id": "ed45394c",
   "metadata": {},
   "source": [
    "## IR surface measurement type\n",
    "\n",
    "NRT data are (presumably) more likely to have non-corrected values present."
   ]
  },
  {
   "cell_type": "code",
   "execution_count": null,
   "id": "4504ef56",
   "metadata": {
    "tags": [
     "hide-output"
    ]
   },
   "outputs": [],
   "source": [
    "df = uscrn.get_nrt_data((-4, None), \"hourly\", n_jobs=2)"
   ]
  },
  {
   "cell_type": "code",
   "execution_count": null,
   "id": "0b7151de",
   "metadata": {},
   "outputs": [],
   "source": [
    "df.sur_temp_type.value_counts()"
   ]
  },
  {
   "cell_type": "code",
   "execution_count": null,
   "id": "9b059dd8",
   "metadata": {},
   "outputs": [],
   "source": [
    "wbans = sorted(df.query(\"sur_temp_type == 'U'\").wban.unique())\n",
    "print(wbans)\n",
    "print(len(wbans))"
   ]
  }
 ],
 "metadata": {
  "kernelspec": {
   "display_name": "venv",
   "language": "python",
   "name": "python3"
  },
  "language_info": {
   "codemirror_mode": {
    "name": "ipython",
    "version": 3
   },
   "file_extension": ".py",
   "mimetype": "text/x-python",
   "name": "python",
   "nbconvert_exporter": "python",
   "pygments_lexer": "ipython3",
   "version": "3.10.11"
  }
 },
 "nbformat": 4,
 "nbformat_minor": 5
}
