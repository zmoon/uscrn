{
 "cells": [
  {
   "cell_type": "markdown",
   "id": "aa45fe06",
   "metadata": {},
   "source": [
    "# QC flags\n",
    "\n",
    "By default, the QC flags are applied. This means that for numeric data columns that have a QC flag column, values where the QC flag is not \"0\" are set to NaN.\n",
    "\n",
    "See {doc}`select-sites` for more information about selecting sites and\n",
    "{doc}`daily` / {func}`uscrn.get_data` and {doc}`nrt` / {func}`uscrn.get_nrt_data` for more information about loading data."
   ]
  },
  {
   "cell_type": "code",
   "execution_count": 11,
   "id": "c46a3bbf",
   "metadata": {
    "tags": [
     "hide-output"
    ]
   },
   "outputs": [],
   "source": [
    "import pandas as pd\n",
    "\n",
    "import uscrn"
   ]
  },
  {
   "cell_type": "code",
   "execution_count": 57,
   "id": "e2936b91",
   "metadata": {
    "tags": [
     "hide-output"
    ]
   },
   "outputs": [
    {
     "name": "stdout",
     "output_type": "stream",
     "text": [
      "Discovering files...\n",
      "1 file(s) found\n",
      "https://www.ncei.noaa.gov/pub/data/uscrn/products/hourly02/2019/CRNH0203-2019-CO_Boulder_14_W.txt\n",
      "Reading files...\n"
     ]
    },
    {
     "name": "stderr",
     "output_type": "stream",
     "text": [
      "[Parallel(n_jobs=1)]: Done   1 tasks      | elapsed:    0.8s\n",
      "[Parallel(n_jobs=1)]: Done   1 tasks      | elapsed:    0.8s\n"
     ]
    },
    {
     "name": "stdout",
     "output_type": "stream",
     "text": [
      "Discovering files...\n",
      "1 file(s) found\n",
      "https://www.ncei.noaa.gov/pub/data/uscrn/products/hourly02/2019/CRNH0203-2019-CO_Boulder_14_W.txt\n",
      "Reading files...\n"
     ]
    },
    {
     "name": "stderr",
     "output_type": "stream",
     "text": [
      "[Parallel(n_jobs=1)]: Done   1 tasks      | elapsed:    0.8s\n",
      "[Parallel(n_jobs=1)]: Done   1 tasks      | elapsed:    0.8s\n"
     ]
    }
   ],
   "source": [
    "station_id = \"1045\"  # Boulder, CO\n",
    "\n",
    "df = uscrn.get_data(2019, \"hourly\", station_id=station_id, n_jobs=1)\n",
    "df_no_qc = uscrn.get_data(2019, \"hourly\", station_id=station_id, apply_qc=False, n_jobs=1)"
   ]
  },
  {
   "cell_type": "code",
   "execution_count": 58,
   "id": "c47859cc",
   "metadata": {},
   "outputs": [
    {
     "data": {
      "text/html": [
       "<div>\n",
       "<style scoped>\n",
       "    .dataframe tbody tr th:only-of-type {\n",
       "        vertical-align: middle;\n",
       "    }\n",
       "\n",
       "    .dataframe tbody tr th {\n",
       "        vertical-align: top;\n",
       "    }\n",
       "\n",
       "    .dataframe thead th {\n",
       "        text-align: right;\n",
       "    }\n",
       "</style>\n",
       "<table border=\"1\" class=\"dataframe\">\n",
       "  <thead>\n",
       "    <tr style=\"text-align: right;\">\n",
       "      <th></th>\n",
       "      <th>0</th>\n",
       "      <th>3</th>\n",
       "    </tr>\n",
       "  </thead>\n",
       "  <tbody>\n",
       "    <tr>\n",
       "      <th>solarad</th>\n",
       "      <td>8756</td>\n",
       "      <td>4</td>\n",
       "    </tr>\n",
       "    <tr>\n",
       "      <th>solarad_max</th>\n",
       "      <td>8750</td>\n",
       "      <td>10</td>\n",
       "    </tr>\n",
       "    <tr>\n",
       "      <th>solarad_min</th>\n",
       "      <td>8756</td>\n",
       "      <td>4</td>\n",
       "    </tr>\n",
       "    <tr>\n",
       "      <th>sur_temp</th>\n",
       "      <td>8756</td>\n",
       "      <td>4</td>\n",
       "    </tr>\n",
       "    <tr>\n",
       "      <th>sur_temp_max</th>\n",
       "      <td>8756</td>\n",
       "      <td>4</td>\n",
       "    </tr>\n",
       "    <tr>\n",
       "      <th>sur_temp_min</th>\n",
       "      <td>8756</td>\n",
       "      <td>4</td>\n",
       "    </tr>\n",
       "    <tr>\n",
       "      <th>rh_hr_avg</th>\n",
       "      <td>8760</td>\n",
       "      <td>&lt;NA&gt;</td>\n",
       "    </tr>\n",
       "  </tbody>\n",
       "</table>\n",
       "</div>"
      ],
      "text/plain": [
       "                 0     3\n",
       "solarad       8756     4\n",
       "solarad_max   8750    10\n",
       "solarad_min   8756     4\n",
       "sur_temp      8756     4\n",
       "sur_temp_max  8756     4\n",
       "sur_temp_min  8756     4\n",
       "rh_hr_avg     8760  <NA>"
      ]
     },
     "execution_count": 58,
     "metadata": {},
     "output_type": "execute_result"
    }
   ],
   "source": [
    "qc_vns = [k for k, v in df.attrs[\"attrs\"].items() if v[\"qc_flag_name\"]]\n",
    "\n",
    "counts = []\n",
    "for vn in qc_vns:\n",
    "    fn = df.attrs[\"attrs\"][vn][\"qc_flag_name\"]\n",
    "    counts.append(df[fn].value_counts().convert_dtypes().rename(vn))\n",
    "\n",
    "counts = pd.DataFrame(counts)\n",
    "counts"
   ]
  },
  {
   "cell_type": "code",
   "execution_count": 36,
   "id": "7008a9de",
   "metadata": {},
   "outputs": [
    {
     "data": {
      "text/html": [
       "<div>\n",
       "<style scoped>\n",
       "    .dataframe tbody tr th:only-of-type {\n",
       "        vertical-align: middle;\n",
       "    }\n",
       "\n",
       "    .dataframe tbody tr th {\n",
       "        vertical-align: top;\n",
       "    }\n",
       "\n",
       "    .dataframe thead th {\n",
       "        text-align: right;\n",
       "    }\n",
       "</style>\n",
       "<table border=\"1\" class=\"dataframe\">\n",
       "  <thead>\n",
       "    <tr style=\"text-align: right;\">\n",
       "      <th></th>\n",
       "      <th>qc</th>\n",
       "      <th>no qc</th>\n",
       "    </tr>\n",
       "    <tr>\n",
       "      <th>solarad_max</th>\n",
       "      <th></th>\n",
       "      <th></th>\n",
       "    </tr>\n",
       "  </thead>\n",
       "  <tbody>\n",
       "    <tr>\n",
       "      <th>False</th>\n",
       "      <td>8749</td>\n",
       "      <td>8759</td>\n",
       "    </tr>\n",
       "    <tr>\n",
       "      <th>True</th>\n",
       "      <td>11</td>\n",
       "      <td>1</td>\n",
       "    </tr>\n",
       "  </tbody>\n",
       "</table>\n",
       "</div>"
      ],
      "text/plain": [
       "               qc  no qc\n",
       "solarad_max             \n",
       "False        8749   8759\n",
       "True           11      1"
      ]
     },
     "execution_count": 36,
     "metadata": {},
     "output_type": "execute_result"
    }
   ],
   "source": [
    "vn = counts.sort_values(by=\"0\").iloc[0].name\n",
    "\n",
    "pd.concat(\n",
    "    [\n",
    "        df[vn].isnull().value_counts().rename(\"qc\"),\n",
    "        df_no_qc[vn].isnull().value_counts().rename(\"no qc\"),\n",
    "    ],\n",
    "    axis=1,\n",
    ")"
   ]
  },
  {
   "cell_type": "code",
   "execution_count": 38,
   "id": "c6f94421",
   "metadata": {},
   "outputs": [
    {
     "data": {
      "text/plain": [
       "sur_temp_type\n",
       "C    8759\n",
       "U       1\n",
       "Name: count, dtype: int64"
      ]
     },
     "execution_count": 38,
     "metadata": {},
     "output_type": "execute_result"
    }
   ],
   "source": [
    "df.sur_temp_type.value_counts()"
   ]
  },
  {
   "cell_type": "markdown",
   "id": "ed45394c",
   "metadata": {},
   "source": [
    "## IR surface measurement type\n",
    "\n",
    "NRT data are (presumably) more likely to have non-corrected values present."
   ]
  },
  {
   "cell_type": "code",
   "execution_count": 42,
   "id": "4504ef56",
   "metadata": {
    "tags": [
     "hide-output"
    ]
   },
   "outputs": [
    {
     "name": "stdout",
     "output_type": "stream",
     "text": [
      "Discovering files...\n",
      "  Looking for files in these years\n",
      "  - 2025\n",
      "Found 4 file(s) to load\n",
      "https://www.ncei.noaa.gov/pub/data/uscrn/products/hourly02/updates/2025/CRN60H0203-202504061500.txt\n",
      "...\n",
      "https://www.ncei.noaa.gov/pub/data/uscrn/products/hourly02/updates/2025/CRN60H0203-202504061800.txt\n",
      "Reading files...\n"
     ]
    },
    {
     "name": "stderr",
     "output_type": "stream",
     "text": [
      "[Parallel(n_jobs=2)]: Using backend LokyBackend with 2 concurrent workers.\n",
      "[Parallel(n_jobs=2)]: Done   1 tasks      | elapsed:    0.2s\n",
      "[Parallel(n_jobs=2)]: Done   2 out of   4 | elapsed:    0.2s remaining:    0.2s\n",
      "[Parallel(n_jobs=2)]: Done   4 out of   4 | elapsed:    0.6s finished\n"
     ]
    }
   ],
   "source": [
    "df = uscrn.get_nrt_data((-4, None), \"hourly\", n_jobs=2)"
   ]
  },
  {
   "cell_type": "code",
   "execution_count": 43,
   "id": "0b7151de",
   "metadata": {},
   "outputs": [
    {
     "data": {
      "text/plain": [
       "sur_temp_type\n",
       "C    567\n",
       "U     60\n",
       "Name: count, dtype: int64"
      ]
     },
     "execution_count": 43,
     "metadata": {},
     "output_type": "execute_result"
    }
   ],
   "source": [
    "df.sur_temp_type.value_counts()"
   ]
  },
  {
   "cell_type": "code",
   "execution_count": 50,
   "id": "9b059dd8",
   "metadata": {},
   "outputs": [
    {
     "name": "stdout",
     "output_type": "stream",
     "text": [
      "['23801', '23802', '63862', '63867', '63868', '63891', '63892', '63893', '63894', '63895', '63897', '63899', '73801', '73802', '73803']\n",
      "15\n"
     ]
    }
   ],
   "source": [
    "wbans = sorted(df.query(\"sur_temp_type == 'U'\").wban.unique())\n",
    "print(wbans)\n",
    "print(len(wbans))"
   ]
  }
 ],
 "metadata": {
  "kernelspec": {
   "display_name": "venv",
   "language": "python",
   "name": "python3"
  },
  "language_info": {
   "codemirror_mode": {
    "name": "ipython",
    "version": 3
   },
   "file_extension": ".py",
   "mimetype": "text/x-python",
   "name": "python",
   "nbconvert_exporter": "python",
   "pygments_lexer": "ipython3",
   "version": "3.10.11"
  }
 },
 "nbformat": 4,
 "nbformat_minor": 5
}
