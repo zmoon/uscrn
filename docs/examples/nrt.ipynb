{
 "cells": [
  {
   "cell_type": "markdown",
   "metadata": {},
   "source": [
    "# NRT data"
   ]
  },
  {
   "cell_type": "code",
   "execution_count": null,
   "metadata": {
    "tags": [
     "hide-output"
    ]
   },
   "outputs": [],
   "source": [
    "import time\n",
    "\n",
    "import matplotlib.pyplot as plt\n",
    "import pandas as pd\n",
    "\n",
    "import uscrn"
   ]
  },
  {
   "cell_type": "markdown",
   "metadata": {},
   "source": [
    "## Recent hourly data\n",
    "\n",
    "With {func}`uscrn.get_nrt_data`, we can load recent data (near-real-time) from USCRN\n",
    "by specifying the period we want and from which dataset.\n",
    "Here, we request the 6 most recent files."
   ]
  },
  {
   "cell_type": "code",
   "execution_count": null,
   "metadata": {
    "tags": [
     "hide-output"
    ]
   },
   "outputs": [],
   "source": [
    "now = pd.Timestamp.now(\"UTC\")\n",
    "print(now)\n",
    "\n",
    "df = uscrn.get_nrt_data(\n",
    "    (-6, None),\n",
    "    \"hourly\",\n",
    "    n_jobs=2,\n",
    ")"
   ]
  },
  {
   "cell_type": "code",
   "execution_count": null,
   "metadata": {},
   "outputs": [],
   "source": [
    "df"
   ]
  },
  {
   "cell_type": "markdown",
   "metadata": {},
   "source": [
    "Sometimes, a few sites can have times an hour earlier than the others.\n",
    "See the notes in {func}`uscrn.get_nrt_data` for more details."
   ]
  },
  {
   "cell_type": "code",
   "execution_count": null,
   "metadata": {},
   "outputs": [],
   "source": [
    "def func(x):\n",
    "    nx = len(x)\n",
    "    if nx == 0:\n",
    "        return \"\"\n",
    "    elif nx < 10:\n",
    "        return sorted(x.unique())\n",
    "    else:\n",
    "        return f\"...\"\n",
    "\n",
    "(\n",
    "    df.utc_time\n",
    "    .value_counts()\n",
    "    .sort_index()\n",
    "    .to_frame()\n",
    "    .assign(\n",
    "        wbans=df.groupby(\"utc_time\")[\"wban\"].apply(func),\n",
    "    )\n",
    ")"
   ]
  },
  {
   "cell_type": "markdown",
   "metadata": {},
   "source": [
    "In these files, for example, site WBAN 13301 has data for multiple earlier _days_ included.\n",
    "\n",
    "* <https://www.ncei.noaa.gov/pub/data/uscrn/products/hourly02/updates/2024/CRN60H0203-202402212000.txt>\n",
    "* <https://www.ncei.noaa.gov/pub/data/uscrn/products/hourly02/updates/2024/CRN60H0203-202402222000.txt>"
   ]
  },
  {
   "cell_type": "markdown",
   "metadata": {},
   "source": [
    "### Plot temperature change time series"
   ]
  },
  {
   "cell_type": "code",
   "execution_count": null,
   "metadata": {},
   "outputs": [],
   "source": [
    "fig, ax = plt.subplots(figsize=(7, 4))\n",
    "\n",
    "df_ = df.copy()\n",
    "\n",
    "tmax = df_.utc_time.max()\n",
    "df_ = df_[df_.utc_time.between(tmax - pd.Timedelta(\"7h\"), tmax)]\n",
    "\n",
    "df_[\"utc_time_mid\"] = df_[\"utc_time\"] + pd.Timedelta(\"30min\")\n",
    "df_[\"t_hr_avg_k\"] = df_[\"t_hr_avg\"].add(273.15)\n",
    "df_[\"dt_hr_avg\"] = df_[\"t_hr_avg_k\"].sub(df_.groupby(\"wban\")[\"t_hr_avg_k\"].transform(\"mean\"))\n",
    "\n",
    "df_[[\"utc_time\", \"dt_hr_avg\"]].groupby(\"utc_time\").mean().plot(\n",
    "    color=\"0.3\",\n",
    "    linewidth=3,\n",
    "    zorder=10,\n",
    "    legend=False,\n",
    "    ax=ax,\n",
    ")\n",
    "\n",
    "df_.groupby(\"wban\").plot(\n",
    "    x=\"utc_time\",\n",
    "    y=\"dt_hr_avg\",\n",
    "    color=\"0.5\",\n",
    "    linewidth=1,\n",
    "    alpha=0.4,\n",
    "    legend=False,\n",
    "    xlabel=\"Time (UTC)\",\n",
    "    ylabel=\"NRT temperature anomaly  $\\Delta T$  (°C)\",\n",
    "    ax=ax,\n",
    ")\n",
    "\n",
    "ax.set_title(df.attrs[\"title\"], loc=\"left\", size=8);"
   ]
  },
  {
   "cell_type": "markdown",
   "metadata": {},
   "source": [
    "### Plot current temperature"
   ]
  },
  {
   "cell_type": "code",
   "execution_count": null,
   "metadata": {},
   "outputs": [],
   "source": [
    "fig, ax = plt.subplots(figsize=(7, 4.5))\n",
    "\n",
    "ds = uscrn.to_xarray(df)\n",
    "\n",
    "ds.isel(time=-1).plot.scatter(x=\"longitude\", y=\"latitude\", hue=\"t_hr_avg\", ax=ax);"
   ]
  },
  {
   "cell_type": "markdown",
   "metadata": {},
   "source": [
    "## Specific period of hourly data\n",
    "\n",
    "Date selection works by file, not by the data inside the file.\n",
    "In general, the data are an hour behind the file date/time.\n",
    "See the notes in {func}`uscrn.get_nrt_data` for more details."
   ]
  },
  {
   "cell_type": "code",
   "execution_count": null,
   "metadata": {
    "tags": [
     "hide-output"
    ]
   },
   "outputs": [],
   "source": [
    "def get_nrt_hourly_period(period):\n",
    "    a, b = period\n",
    "    ap1 = pd.to_datetime(a) + pd.Timedelta(hours=1)\n",
    "    bp1 = pd.to_datetime(b) + pd.Timedelta(hours=1)\n",
    "\n",
    "    df = uscrn.get_nrt_data((ap1, bp1))\n",
    "\n",
    "    time.sleep(0.5)  # for prints\n",
    "    in_period = df.utc_time.between(a, b)\n",
    "    print(\n",
    "        f\"Got {in_period.sum()}/{len(df)} ({in_period.sum() / len(df):.1%}) records \"\n",
    "        f\"in desired period {a} to {b}\"\n",
    "    )\n",
    "    outside = df.loc[~in_period, \"utc_time\"].value_counts()\n",
    "    print(\n",
    "        \"Outside counts:\",\n",
    "        \", \".join(f\"{time:%Y-%m-%d %H} ({count})\" for time, count in outside.items())\n",
    "    )\n",
    "\n",
    "    dupe = df.duplicated([\"wban\", \"utc_time\"], keep=False)\n",
    "    print(f\"Got {dupe.sum()} ({dupe.sum() / len(df):.1%}) duplicates\")\n",
    "\n",
    "    return (\n",
    "        df[in_period]\n",
    "        .drop_duplicates([\"wban\", \"utc_time\"], keep=\"last\")\n",
    "        .reset_index(drop=True)\n",
    "    )\n",
    "\n",
    "\n",
    "df = get_nrt_hourly_period((\"2024-02-09 16\", \"2024-02-09 20\"))"
   ]
  },
  {
   "cell_type": "code",
   "execution_count": null,
   "metadata": {},
   "outputs": [],
   "source": [
    "df"
   ]
  },
  {
   "cell_type": "markdown",
   "metadata": {},
   "source": [
    "## Recent daily data\n",
    "\n",
    "Here, we load the most recent daily data file."
   ]
  },
  {
   "cell_type": "code",
   "execution_count": null,
   "metadata": {
    "tags": [
     "hide-output"
    ]
   },
   "outputs": [],
   "source": [
    "df = uscrn.get_nrt_data(\n",
    "    -1,\n",
    "    \"daily\",\n",
    "    n_jobs=1,\n",
    ")"
   ]
  },
  {
   "cell_type": "code",
   "execution_count": null,
   "metadata": {},
   "outputs": [],
   "source": [
    "df"
   ]
  },
  {
   "cell_type": "code",
   "execution_count": null,
   "metadata": {},
   "outputs": [],
   "source": [
    "fig, ax = plt.subplots(figsize=(7, 4.5))\n",
    "\n",
    "ds = uscrn.to_xarray(df).squeeze()\n",
    "\n",
    "ds.plot.scatter(x=\"longitude\", y=\"latitude\", hue=\"t_daily_max\", ax=ax);"
   ]
  }
 ],
 "metadata": {
  "kernelspec": {
   "display_name": "venv",
   "language": "python",
   "name": "python3"
  },
  "language_info": {
   "codemirror_mode": {
    "name": "ipython",
    "version": 3
   },
   "file_extension": ".py",
   "mimetype": "text/x-python",
   "name": "python",
   "nbconvert_exporter": "python",
   "pygments_lexer": "ipython3",
   "version": "3.11.8"
  }
 },
 "nbformat": 4,
 "nbformat_minor": 2
}
