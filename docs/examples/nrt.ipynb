{
 "cells": [
  {
   "cell_type": "markdown",
   "metadata": {},
   "source": [
    "# NRT data"
   ]
  },
  {
   "cell_type": "code",
   "execution_count": null,
   "metadata": {},
   "outputs": [],
   "source": [
    "import matplotlib.pyplot as plt\n",
    "import pandas as pd\n",
    "\n",
    "import uscrn"
   ]
  },
  {
   "cell_type": "markdown",
   "metadata": {},
   "source": [
    "## Load recent hourly data\n",
    "\n",
    "With {func}`uscrn.get_nrt_data`, we can load recent data (near-real-time) from USCRN\n",
    "by specifying the period we want and from which dataset."
   ]
  },
  {
   "cell_type": "code",
   "execution_count": null,
   "metadata": {},
   "outputs": [],
   "source": [
    "now = pd.Timestamp.now(\"UTC\")\n",
    "print(now)\n",
    "\n",
    "# Time in the filename, used for selection, is the next hour (end of the period),\n",
    "# while the times in the data are left-labelled (start of the hour).\n",
    "df = uscrn.get_nrt_data(\n",
    "    (now.floor(\"h\") - pd.Timedelta('6h'), None),\n",
    "    \"hourly\",\n",
    ")\n",
    "df"
   ]
  },
  {
   "cell_type": "markdown",
   "metadata": {},
   "source": [
    "It seems that, sometimes, a few sites can have times an hour earlier than the others."
   ]
  },
  {
   "cell_type": "code",
   "execution_count": null,
   "metadata": {},
   "outputs": [],
   "source": [
    "def func(x):\n",
    "    nx = len(x)\n",
    "    if nx == 0:\n",
    "        return \"\"\n",
    "    elif nx < 10:\n",
    "        return sorted(x.unique())\n",
    "    else:\n",
    "        return f\"...\"\n",
    "\n",
    "(\n",
    "    df.utc_time\n",
    "    .value_counts()\n",
    "    .sort_index()\n",
    "    .to_frame()\n",
    "    .assign(\n",
    "        wbans=df.groupby(\"utc_time\")[\"wban\"].apply(func),\n",
    "    )\n",
    ")"
   ]
  },
  {
   "cell_type": "markdown",
   "metadata": {},
   "source": [
    "## Plot temperature change time series"
   ]
  },
  {
   "cell_type": "code",
   "execution_count": null,
   "metadata": {},
   "outputs": [],
   "source": [
    "fig, ax = plt.subplots(figsize=(7, 4))\n",
    "\n",
    "df_ = df.copy()\n",
    "df_[\"utc_time_mid\"] = df_[\"utc_time\"] + pd.Timedelta(\"30min\")\n",
    "df_[\"t_hr_avg_k\"] = df_[\"t_hr_avg\"].add(273.15)\n",
    "df_[\"dt_hr_avg\"] = df_[\"t_hr_avg_k\"].sub(df_.groupby(\"wban\")[\"t_hr_avg_k\"].transform(\"mean\"))\n",
    "\n",
    "df_[[\"utc_time\", \"dt_hr_avg\"]].groupby(\"utc_time\").mean().plot(\n",
    "    color=\"0.3\",\n",
    "    linewidth=3,\n",
    "    zorder=10,\n",
    "    legend=False,\n",
    "    ax=ax,\n",
    ")\n",
    "\n",
    "df_.groupby(\"wban\").plot(\n",
    "    x=\"utc_time\",\n",
    "    y=\"dt_hr_avg\",\n",
    "    color=\"0.5\",\n",
    "    linewidth=1,\n",
    "    alpha=0.4,\n",
    "    legend=False,\n",
    "    xlabel=\"Time (UTC)\",\n",
    "    ylabel=\"NRT temperature anomaly  $\\Delta T$  (°C)\",\n",
    "    ax=ax,\n",
    ")\n",
    "\n",
    "ax.set_title(df.attrs[\"title\"], loc=\"left\", size=8);"
   ]
  },
  {
   "cell_type": "markdown",
   "metadata": {},
   "source": [
    "## Plot current temperature"
   ]
  },
  {
   "cell_type": "code",
   "execution_count": null,
   "metadata": {},
   "outputs": [],
   "source": [
    "fig, ax = plt.subplots(figsize=(7, 4.5))\n",
    "\n",
    "# TODO: drop these dupes in `get_nrt_data`?\n",
    "display(df[df.duplicated([\"wban\", \"utc_time\"], keep=False)])\n",
    "\n",
    "ds = uscrn.to_xarray(df.drop_duplicates([\"wban\", \"utc_time\"], keep=\"last\"))\n",
    "\n",
    "# TODO: lat/lon don't have attrs?\n",
    "ds.isel(time=-1).plot.scatter(x=\"longitude\", y=\"latitude\", hue=\"t_hr_avg\", ax=ax);"
   ]
  },
  {
   "cell_type": "markdown",
   "metadata": {},
   "source": [
    "## Daily data"
   ]
  },
  {
   "cell_type": "code",
   "execution_count": null,
   "metadata": {},
   "outputs": [],
   "source": [
    "# Time in the filename, used for selection, is 23:59 (end of the day).\n",
    "# Files are usually uploaded a day or so later, a bit after midnight.\n",
    "df = uscrn.get_nrt_data(\n",
    "    (now.floor(\"d\") - pd.Timedelta('2d'), None),  # TODO: select with -1\n",
    "    \"daily\",\n",
    "    n_jobs=1,\n",
    ")\n",
    "df"
   ]
  },
  {
   "cell_type": "code",
   "execution_count": null,
   "metadata": {},
   "outputs": [],
   "source": [
    "fig, ax = plt.subplots(figsize=(7, 4.5))\n",
    "\n",
    "df.plot.scatter(x=\"longitude\", y=\"latitude\", c=\"t_daily_avg\", cmap=\"viridis\", ax=ax);"
   ]
  }
 ],
 "metadata": {
  "kernelspec": {
   "display_name": "venv",
   "language": "python",
   "name": "python3"
  },
  "language_info": {
   "codemirror_mode": {
    "name": "ipython",
    "version": 3
   },
   "file_extension": ".py",
   "mimetype": "text/x-python",
   "name": "python",
   "nbconvert_exporter": "python",
   "pygments_lexer": "ipython3",
   "version": "3.11.8"
  }
 },
 "nbformat": 4,
 "nbformat_minor": 2
}
