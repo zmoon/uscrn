{
 "cells": [
  {
   "cell_type": "markdown",
   "id": "d6ac2571-e425-4732-8701-8b9a21eadf31",
   "metadata": {},
   "source": [
    "With {func}`uscrn.get_data`, it is possible to select sites, to avoid downloading data you don't want."
   ]
  },
  {
   "cell_type": "code",
   "execution_count": null,
   "id": "77111f5e-e049-4c04-97a0-b2959c9d4d4f",
   "metadata": {},
   "outputs": [],
   "source": [
    "import uscrn"
   ]
  },
  {
   "cell_type": "code",
   "execution_count": null,
   "id": "2f433110-306f-4ba8-b9ef-c703365752e3",
   "metadata": {},
   "outputs": [],
   "source": [
    "meta = uscrn.load_meta()\n",
    "meta.head()"
   ]
  },
  {
   "cell_type": "code",
   "execution_count": null,
   "id": "309793c4-0ef8-4021-92b2-0dfae7542b37",
   "metadata": {},
   "outputs": [],
   "source": [
    "meta.info()"
   ]
  },
  {
   "cell_type": "markdown",
   "id": "c3889f6d-ce97-4edd-a29a-022fef263d6b",
   "metadata": {},
   "source": [
    "## Single site"
   ]
  },
  {
   "cell_type": "code",
   "execution_count": null,
   "id": "be9827ad-6494-4c17-a48f-628676607e75",
   "metadata": {},
   "outputs": [],
   "source": [
    "%%time\n",
    "\n",
    "station_id = \"1045\"  # Boulder, CO\n",
    "\n",
    "assert meta.set_index(\"station_id\").at[station_id, \"location\"] == \"Boulder\"\n",
    "\n",
    "df = uscrn.get_data(range(2020, 2025), \"daily\", station_id=station_id)\n",
    "df"
   ]
  },
  {
   "cell_type": "code",
   "execution_count": null,
   "id": "465d9014-e44b-4fea-b914-361e608a7f8e",
   "metadata": {},
   "outputs": [],
   "source": [
    "s = df.set_index(\"lst_date\")[\"t_daily_max\"]\n",
    "s.rolling(\"7D\").mean().plot()"
   ]
  },
  {
   "cell_type": "markdown",
   "id": "9459bd4d-28fc-4f3d-a7c4-dfc90bc8e460",
   "metadata": {},
   "source": [
    "## Sites in a state"
   ]
  },
  {
   "cell_type": "code",
   "execution_count": null,
   "id": "e038e54d-0056-4d2a-8919-d7c618810eb1",
   "metadata": {},
   "outputs": [],
   "source": [
    "%%time\n",
    "\n",
    "station_ids = meta.query(\"state == 'TX'\").station_id.tolist()\n",
    "print(station_ids)\n",
    "\n",
    "df = uscrn.get_data(2019, \"daily\", station_id=station_ids)\n",
    "df"
   ]
  },
  {
   "cell_type": "code",
   "execution_count": null,
   "id": "8b58e17b-8547-4305-8ae2-53744c89ab5a",
   "metadata": {},
   "outputs": [],
   "source": [
    "df.assign(rounded_latitude=df.latitude.round(1).astype(str)).boxplot(\"t_daily_max\", by=\"rounded_latitude\")"
   ]
  }
 ],
 "metadata": {
  "kernelspec": {
   "display_name": "Python 3 (ipykernel)",
   "language": "python",
   "name": "python3"
  },
  "language_info": {
   "codemirror_mode": {
    "name": "ipython",
    "version": 3
   },
   "file_extension": ".py",
   "mimetype": "text/x-python",
   "name": "python",
   "nbconvert_exporter": "python",
   "pygments_lexer": "ipython3",
   "version": "3.10.11"
  }
 },
 "nbformat": 4,
 "nbformat_minor": 5
}
