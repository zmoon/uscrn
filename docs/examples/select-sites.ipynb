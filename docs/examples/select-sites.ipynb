{
 "cells": [
  {
   "cell_type": "markdown",
   "id": "d6ac2571-e425-4732-8701-8b9a21eadf31",
   "metadata": {},
   "source": [
    "# Select sites\n",
    "\n",
    "With {func}`uscrn.get_data`, it is possible to select sites, to avoid downloading data you don't want."
   ]
  },
  {
   "cell_type": "code",
   "execution_count": null,
   "id": "77111f5e-e049-4c04-97a0-b2959c9d4d4f",
   "metadata": {
    "tags": [
     "hide-output"
    ]
   },
   "outputs": [],
   "source": [
    "import matplotlib.pyplot as plt\n",
    "\n",
    "import uscrn"
   ]
  },
  {
   "cell_type": "markdown",
   "id": "5bc472a9",
   "metadata": {},
   "source": [
    "We can use the site metadata info from {func}`uscrn.load_meta` to determine which sites we want to load."
   ]
  },
  {
   "cell_type": "code",
   "execution_count": null,
   "id": "2f433110-306f-4ba8-b9ef-c703365752e3",
   "metadata": {},
   "outputs": [],
   "source": [
    "meta = uscrn.load_meta()\n",
    "meta.head()"
   ]
  },
  {
   "cell_type": "code",
   "execution_count": null,
   "id": "309793c4-0ef8-4021-92b2-0dfae7542b37",
   "metadata": {},
   "outputs": [],
   "source": [
    "meta.info()"
   ]
  },
  {
   "cell_type": "markdown",
   "id": "c3889f6d-ce97-4edd-a29a-022fef263d6b",
   "metadata": {},
   "source": [
    "## Single site"
   ]
  },
  {
   "cell_type": "code",
   "execution_count": null,
   "id": "97189691",
   "metadata": {},
   "outputs": [],
   "source": [
    "(\n",
    "    meta.query(\"state == 'CO' and operation == 'Operational'\")\n",
    "    .sort_values(by=\"location\")\n",
    ")"
   ]
  },
  {
   "cell_type": "code",
   "execution_count": null,
   "id": "be9827ad-6494-4c17-a48f-628676607e75",
   "metadata": {
    "tags": [
     "hide-output"
    ]
   },
   "outputs": [],
   "source": [
    "%%time\n",
    "\n",
    "station_id = \"1045\"  # Boulder, CO\n",
    "\n",
    "assert meta.station_id.nunique() == len(meta)\n",
    "assert meta.set_index(\"station_id\").at[station_id, \"location\"] == \"Boulder\"\n",
    "\n",
    "df = uscrn.get_data(range(2015, 2025), \"daily\", station_id=station_id, n_jobs=2)"
   ]
  },
  {
   "cell_type": "code",
   "execution_count": null,
   "id": "f0799d2d",
   "metadata": {},
   "outputs": [],
   "source": [
    "df"
   ]
  },
  {
   "cell_type": "code",
   "execution_count": null,
   "id": "465d9014-e44b-4fea-b914-361e608a7f8e",
   "metadata": {},
   "outputs": [],
   "source": [
    "vn = \"t_daily_max\"\n",
    "\n",
    "attrs = df.attrs[\"attrs\"][vn]\n",
    "s = df.set_index(\"lst_date\")[vn]\n",
    "\n",
    "_, ax = plt.subplots(figsize=(9, 4))\n",
    "s.plot(ax=ax, lw=0.5, alpha=0.35, color=\"C0\")\n",
    "s.rolling(\"30D\").mean().plot(ax=ax, color=\"C0\")\n",
    "ax.set_xlabel(\"\")\n",
    "ax.set_ylabel(f\"{attrs['long_name']}\\n[{attrs['units']}]\");"
   ]
  },
  {
   "cell_type": "markdown",
   "id": "9459bd4d-28fc-4f3d-a7c4-dfc90bc8e460",
   "metadata": {},
   "source": [
    "## Sites in a state"
   ]
  },
  {
   "cell_type": "code",
   "execution_count": null,
   "id": "e038e54d-0056-4d2a-8919-d7c618810eb1",
   "metadata": {
    "tags": [
     "hide-output"
    ]
   },
   "outputs": [],
   "source": [
    "%%time\n",
    "\n",
    "station_ids = meta.query(\"state == 'TX'\").station_id.tolist()\n",
    "print(station_ids)\n",
    "\n",
    "df = uscrn.get_data(2023, \"daily\", station_id=station_ids, n_jobs=2)"
   ]
  },
  {
   "cell_type": "code",
   "execution_count": null,
   "id": "750960b5",
   "metadata": {},
   "outputs": [],
   "source": [
    "df"
   ]
  },
  {
   "cell_type": "code",
   "execution_count": null,
   "id": "8b58e17b-8547-4305-8ae2-53744c89ab5a",
   "metadata": {},
   "outputs": [],
   "source": [
    "vn = \"t_daily_max\"\n",
    "\n",
    "attrs = df.attrs[\"attrs\"][vn]\n",
    "\n",
    "(\n",
    "    df.assign(rounded_latitude=df.latitude.round(1).astype(str))\n",
    "    .boxplot(vn, by=\"rounded_latitude\")\n",
    ")\n",
    "plt.gca().set_ylabel(f\"{attrs['long_name']}\\n[{attrs['units']}]\");"
   ]
  }
 ],
 "metadata": {
  "kernelspec": {
   "display_name": "venv",
   "language": "python",
   "name": "python3"
  },
  "language_info": {
   "codemirror_mode": {
    "name": "ipython",
    "version": 3
   },
   "file_extension": ".py",
   "mimetype": "text/x-python",
   "name": "python",
   "nbconvert_exporter": "python",
   "pygments_lexer": "ipython3",
   "version": "3.10.11"
  }
 },
 "nbformat": 4,
 "nbformat_minor": 5
}
