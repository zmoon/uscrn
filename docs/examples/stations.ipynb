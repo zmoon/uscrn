{
 "cells": [
  {
   "cell_type": "markdown",
   "id": "17295450-f677-4196-a971-97fed5332f0a",
   "metadata": {},
   "source": [
    "# Station metadata"
   ]
  },
  {
   "cell_type": "code",
   "execution_count": null,
   "id": "0d2329d6-14ca-423f-9909-f00136d304f9",
   "metadata": {},
   "outputs": [],
   "source": [
    "import pandas as pd\n",
    "\n",
    "import uscrn"
   ]
  },
  {
   "cell_type": "markdown",
   "id": "0c2cd5a5-de24-4052-9818-f24a1d4670e4",
   "metadata": {},
   "source": [
    "## Load\n",
    "\n",
    "We use {func}`uscrn.load_meta` to load the station metadata from NCEI."
   ]
  },
  {
   "cell_type": "code",
   "execution_count": null,
   "id": "1d9a8dd3-a4d9-4d29-b4dc-d147493cd93f",
   "metadata": {},
   "outputs": [],
   "source": [
    "%time\n",
    "\n",
    "meta = uscrn.load_meta()"
   ]
  },
  {
   "cell_type": "code",
   "execution_count": null,
   "id": "20ecca0f-7966-40ca-b112-2bb32baf8af5",
   "metadata": {},
   "outputs": [],
   "source": [
    "meta"
   ]
  },
  {
   "cell_type": "code",
   "execution_count": null,
   "id": "21765f3b-8c4c-49ba-8688-30082979f993",
   "metadata": {},
   "outputs": [],
   "source": [
    "meta.info()"
   ]
  },
  {
   "cell_type": "code",
   "execution_count": null,
   "id": "eda6834a-37da-4bb7-9f14-14bec837dabf",
   "metadata": {},
   "outputs": [],
   "source": [
    "list(meta.attrs)"
   ]
  },
  {
   "cell_type": "markdown",
   "id": "0d820cfd-89b8-45aa-b4ce-6f5e28ac2512",
   "metadata": {},
   "source": [
    "## Examine\n",
    "\n",
    "(A bit.)\n",
    "\n",
    "First, we look at the status breakdown."
   ]
  },
  {
   "cell_type": "code",
   "execution_count": null,
   "id": "53b5db47-91af-41a7-851b-1b858958a31b",
   "metadata": {},
   "outputs": [],
   "source": [
    "meta.status.value_counts()"
   ]
  },
  {
   "cell_type": "code",
   "execution_count": null,
   "id": "1c61e1a2-a152-46d0-8420-d84cb097caf4",
   "metadata": {},
   "outputs": [],
   "source": [
    "meta.operation.value_counts()"
   ]
  },
  {
   "cell_type": "markdown",
   "id": "10306e98-06f0-463b-8252-e9fb58bdc0bf",
   "metadata": {},
   "source": [
    "Most, but not all, sites are in the US."
   ]
  },
  {
   "cell_type": "code",
   "execution_count": null,
   "id": "9361dae8-3a87-4dfd-b08c-e62b0691f824",
   "metadata": {},
   "outputs": [],
   "source": [
    "meta.country.value_counts()"
   ]
  },
  {
   "cell_type": "code",
   "execution_count": null,
   "id": "4f4bc19e-efee-4a70-9788-9bb5364ff645",
   "metadata": {},
   "outputs": [],
   "source": [
    "meta.query(\"country != 'US'\")"
   ]
  },
  {
   "cell_type": "markdown",
   "id": "160e6fd7-0a4a-4654-835a-3949c37d965c",
   "metadata": {},
   "source": [
    "Technically there are a few different networks."
   ]
  },
  {
   "cell_type": "code",
   "execution_count": null,
   "id": "990b77ca-ca86-4424-9b81-84cced4c3849",
   "metadata": {},
   "outputs": [],
   "source": [
    "meta.network.value_counts()"
   ]
  },
  {
   "cell_type": "code",
   "execution_count": null,
   "id": "451288ef-3fb2-4349-85af-04a5d62f7ee2",
   "metadata": {},
   "outputs": [],
   "source": [
    "meta.query(\"operation == 'Operational'\").network.value_counts()"
   ]
  },
  {
   "cell_type": "code",
   "execution_count": null,
   "id": "05c7c7eb-51cd-41a4-ad42-72286fbe0e9c",
   "metadata": {},
   "outputs": [],
   "source": [
    "meta.query(\"operation == 'Operational' and not wban.isnull()\").network.value_counts()"
   ]
  },
  {
   "cell_type": "markdown",
   "id": "98c48c37-6600-4081-9089-cc4e0c4a12c2",
   "metadata": {},
   "source": [
    "👆 This should be the number of sites we get when we use {func}`uscrn.get_data` (for a time period that the currently reported operational status is accurate for)."
   ]
  },
  {
   "cell_type": "markdown",
   "id": "40aa0e9a-ffd7-4054-a17c-dc4314af7aa5",
   "metadata": {},
   "source": [
    "Sites with \"closing\" in the past are not marked as operational (good)."
   ]
  },
  {
   "cell_type": "code",
   "execution_count": null,
   "id": "aa3797a3-0cf2-43f2-95a1-bcc7e859211b",
   "metadata": {},
   "outputs": [],
   "source": [
    "meta[meta.closing < pd.Timestamp.now()].operation.value_counts()"
   ]
  },
  {
   "cell_type": "markdown",
   "id": "92bc7624-5c87-4135-a629-2628b79b4d0f",
   "metadata": {},
   "source": [
    "Alaska has the most sites."
   ]
  },
  {
   "cell_type": "code",
   "execution_count": null,
   "id": "e3e97c35-c9b2-4078-9afe-ed584c5bebc9",
   "metadata": {},
   "outputs": [],
   "source": [
    "meta.state.value_counts().head(10)"
   ]
  },
  {
   "cell_type": "markdown",
   "id": "929e055e-1c22-461f-a748-435afdc7446d",
   "metadata": {},
   "source": [
    "There is a range of elevations."
   ]
  },
  {
   "cell_type": "code",
   "execution_count": null,
   "id": "7abba343-d3fd-4dc6-a360-f6946952463c",
   "metadata": {},
   "outputs": [],
   "source": [
    "meta.elevation.plot.hist()"
   ]
  },
  {
   "cell_type": "markdown",
   "id": "aec41202-0526-4fea-9b97-28875134d742",
   "metadata": {},
   "source": [
    "Most of the sites that are high above sea-level are in NM/CO/UT/AZ. CO/WY/UT/NM/NV are the top five highest states overall, in that order."
   ]
  },
  {
   "cell_type": "code",
   "execution_count": null,
   "id": "c2bb58f7-bc9d-4c4a-bfc4-6e8132d7f2f4",
   "metadata": {},
   "outputs": [],
   "source": [
    "meta.query(\"elevation > 4000\").state.value_counts().head(5)"
   ]
  },
  {
   "cell_type": "markdown",
   "id": "5755859c-bb83-464e-8bf4-8778cf5efaa7",
   "metadata": {},
   "source": [
    "Most sites have elevation recorded."
   ]
  },
  {
   "cell_type": "code",
   "execution_count": null,
   "id": "fb177813-80b2-4f2d-a6e6-f8cce0c450d0",
   "metadata": {},
   "outputs": [],
   "source": [
    "meta[meta.elevation.isnull()]"
   ]
  },
  {
   "cell_type": "markdown",
   "id": "257361b4-b933-41a5-b09f-fbc5b85c3d47",
   "metadata": {},
   "source": [
    "Some sites don't have a WBAN (but do have a station ID). Presumably these sites aren't included in the data archives."
   ]
  },
  {
   "cell_type": "code",
   "execution_count": null,
   "id": "4927b0bd-0d63-462a-ab45-e6b463b80fde",
   "metadata": {},
   "outputs": [],
   "source": [
    "assert not meta.station_id.isnull().sum()\n",
    "meta[meta.wban.isnull()]"
   ]
  }
 ],
 "metadata": {
  "kernelspec": {
   "display_name": "Python 3 (ipykernel)",
   "language": "python",
   "name": "python3"
  },
  "language_info": {
   "codemirror_mode": {
    "name": "ipython",
    "version": 3
   },
   "file_extension": ".py",
   "mimetype": "text/x-python",
   "name": "python",
   "nbconvert_exporter": "python",
   "pygments_lexer": "ipython3",
   "version": "3.11.7"
  }
 },
 "nbformat": 4,
 "nbformat_minor": 5
}
